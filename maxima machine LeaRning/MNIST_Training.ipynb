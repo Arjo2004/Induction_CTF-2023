{
 "cells": [
  {
   "cell_type": "code",
   "execution_count": null,
   "metadata": {},
   "outputs": [],
   "source": [
    "import pandas as pd\n",
    "import numpy as np\n",
    "import tensorflow as tf\n",
    "import zipfile\n",
    "import os\n",
    "\n",
    "\n",
    "def use_password_zip(password, zip_file):\n",
    "    password = password[0:100]\n",
    "    for j in zip_file:\n",
    "        print(\"Testing - \", j)\n",
    "        with zipfile.ZipFile(j) as file:\n",
    "            try:\n",
    "                file.extractall(pwd = bytes(password, 'utf-8'))\n",
    "                print(\"Your flag is ready and extracted.\")\n",
    "                break\n",
    "            except:\n",
    "                print(\"[BITSCTF] yeah i dont think this is the right zip file orrrr your password is wrong lil bro\")\n",
    "                continue\n",
    "\n",
    "def check_forzips(y_predicted):\n",
    "    print(y_predicted.shape)\n",
    "    f = open(\"password.txt\", \"w\")\n",
    "    for i in y_predicted:\n",
    "        f.write(str(np.argmax(i)))\n",
    "\n",
    "    f.close()"
   ]
  },
  {
   "cell_type": "code",
   "execution_count": null,
   "metadata": {},
   "outputs": [],
   "source": [
    "(X_train, y_train) , (X_test, y_test) = tf.keras.datasets.mnist.load_data()\n",
    "\n",
    "X_train = X_train / 255.0\n",
    "X_test = X_test / 255.0\n",
    "\n",
    "X_train = X_train.reshape(X_train.shape[0], 28*28)\n",
    "X_test = X_test.reshape(X_test.shape[0], 28*28)"
   ]
  },
  {
   "cell_type": "code",
   "execution_count": null,
   "metadata": {},
   "outputs": [],
   "source": [
    "model = tf.keras.Sequential([\n",
    "        tf.keras.layers.Dense(10, input_shape=(784,), activation='sigmoid')\n",
    "])\n",
    "\n",
    "# hyperparameters - Learning Rate, adam optimizer, crossentropy, accuracy metrics\n",
    "model.compile(optimizer=tf.keras.optimizers.Adam(learning_rate=0.01), loss='sparse_categorical_crossentropy', metrics=['accuracy'])"
   ]
  },
  {
   "cell_type": "code",
   "execution_count": null,
   "metadata": {},
   "outputs": [],
   "source": [
    "model.fit(X_train, y_train, epochs=5)"
   ]
  },
  {
   "cell_type": "code",
   "execution_count": null,
   "metadata": {},
   "outputs": [],
   "source": [
    "y_predicted = model.predict(X_test)"
   ]
  },
  {
   "cell_type": "code",
   "execution_count": null,
   "metadata": {},
   "outputs": [],
   "source": [
    "check_forzips(y_predicted)\n",
    "dir_list = os.listdir(os.getcwd())\n",
    "\n",
    "zip_files = []\n",
    "for i in dir_list:\n",
    "    if i.endswith(\".zip\"):\n",
    "        zip_files.append(i)\n",
    "        \n",
    "\n",
    "if(len(zip_files) > 0):\n",
    "    print(\"Hmm. Maybe you can now try your password.txt!\")\n",
    "    use_password_zip(open(\"password.txt\", \"r\").read(), zip_files)\n",
    "\n",
    "else:\n",
    "    print(\"Where's the files, bro?\")"
   ]
  }
 ],
 "metadata": {
  "kernelspec": {
   "display_name": "Python 3",
   "language": "python",
   "name": "python3"
  },
  "language_info": {
   "codemirror_mode": {
    "name": "ipython",
    "version": 3
   },
   "file_extension": ".py",
   "mimetype": "text/x-python",
   "name": "python",
   "nbconvert_exporter": "python",
   "pygments_lexer": "ipython3",
   "version": "3.11.4"
  },
  "orig_nbformat": 4
 },
 "nbformat": 4,
 "nbformat_minor": 2
}
